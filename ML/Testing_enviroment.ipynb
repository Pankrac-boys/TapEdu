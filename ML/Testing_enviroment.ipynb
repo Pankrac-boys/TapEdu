{
  "nbformat": 4,
  "nbformat_minor": 0,
  "metadata": {
    "colab": {
      "name": "Testing enviroment.ipynb",
      "provenance": [],
      "private_outputs": true,
      "authorship_tag": "ABX9TyPcm15Dud5FRQF4vspZPjcw",
      "include_colab_link": true
    },
    "kernelspec": {
      "name": "python3",
      "display_name": "Python 3"
    },
    "language_info": {
      "name": "python"
    },
    "accelerator": "GPU"
  },
  "cells": [
    {
      "cell_type": "markdown",
      "metadata": {
        "id": "view-in-github",
        "colab_type": "text"
      },
      "source": [
        "<a href=\"https://colab.research.google.com/github/Pankrac-boys/TapEdu/blob/kazovo-ML-%C5%99e%C5%A1en%C3%AD/Testing_enviroment.ipynb\" target=\"_parent\"><img src=\"https://colab.research.google.com/assets/colab-badge.svg\" alt=\"Open In Colab\"/></a>"
      ]
    },
    {
      "cell_type": "code",
      "execution_count": null,
      "metadata": {
        "id": "hNLhmFKYs9TQ"
      },
      "outputs": [],
      "source": [
        "!git clone https://github.com/Pankrac-boys/TapEdu.git\n",
        "!git cd TapEdu\n",
        "!git checkout kazovo-ML-řešení"
      ]
    }
  ]
}